{
 "cells": [
  {
   "cell_type": "markdown",
   "metadata": {},
   "source": [
    "## Italics and Bold:\n",
    "\n",
    "_Italics_: To make a phrase italic in Markdown, you can surround words with an underscore (_).\n",
    "\n",
    "**Bold**: To make a phrase bold in Markdown, you can surround words with two asterisks(**).\n",
    "\n",
    "Both italics and bold in the same line: **_of course_**, the order of (**) and (_) do not matter"
   ]
  },
  {
   "cell_type": "markdown",
   "metadata": {},
   "source": [
    "## Headers:\n",
    "\n",
    "Use hash mark(#), the number of (#) indicates the size as following:\n",
    "\n",
    "# This is header one\n",
    "\n",
    "## This is header two\n",
    "\n",
    "### This is header three\n",
    "\n",
    "#### This is header four\n",
    "\n",
    "##### This is header five\n",
    "\n",
    "###### This is header six\n",
    "\n",
    "Can't make a header bold, but could make a header italics:\n",
    "\n",
    "### This header is _Italics_"
   ]
  },
  {
   "cell_type": "markdown",
   "metadata": {},
   "source": [
    "## Links:\n",
    "\n",
    "##### _inline link_: To create an inline link, you wrap the link text in brackets([]), then you wrap the link in parenthesis(()). EX: [Visit Haoyang's Github](https://github.com/haoychen)\n",
    "\n",
    "Could enphasis to link texts: [_Visit Haoyang's **Github**_](https://github.com/haoychen)\n",
    "\n",
    "Could make link within headings: \n",
    "#### Visit Haoyang's [Github](https://github.com/haoychen)\n",
    "\n",
    "\n",
    "\n",
    "##### _reference link_: a reference too another place in the document, the following is an example:\n",
    "\n",
    "Here's [a link to something else][another place].\n",
    "here's [yet another link][another-link].\n",
    "And now back to [the first link][another place].\n",
    "\n",
    "[another place]: https://github.com/haoychen\n",
    "[another-link]: https://www.google.com\n",
    "\n",
    "The 'references' above are the second set of brackets:([another place]) and ([another-link]). These brackets are defined as proper links to outside websites.\n",
    "\n",
    "Comparing to inline link, reference link has advantage that multiple links to the same place only need to be updated once."
   ]
  },
  {
   "cell_type": "markdown",
   "metadata": {},
   "source": [
    "## Images:\n",
    "\n",
    "##### _Inline Image_: like link, but prefaced with an exclamation point (!), followed by the same two brackets, and a pair of parentheses containing the image URL. Within the image brackets, you can place some \"alt text\", describing the image. (Don't need to, could leave the brackets empty). E.X.:\n",
    "\n",
    "![Haoyang's Github Img](https://raw.githubusercontent.com/TZstatsADS/project4-team-2/master/figs/b1.png)\n",
    "\n",
    "\n",
    "##### _Reference Image_: like link, prefaced exclamation point (!). E.X.:\n",
    "![This is the reference img][cleverland]\n",
    "\n",
    "[cleverland]: https://raw.githubusercontent.com/TZstatsADS/project4-team-2/master/figs/b1.png"
   ]
  },
  {
   "cell_type": "markdown",
   "metadata": {},
   "source": [
    "## Blockquotes:\n",
    "\n",
    "A blockquote is a sentence or paragraph that's been specially formatted to draw attention to the reader, preface a line with the \"greater than\" caret (>). E.X.:\n",
    "\n",
    "> This is an example of blockquotes\n",
    "\n",
    "Could also place a caret character on each line of the quote. Useful if your quote spans multiple paragraph. Even the blank lines must contain the caret character. E.X.:\n",
    "\n",
    ">This is an example of multiple blockquotes\n",
    ">\n",
    ">EX\n",
    ">\n",
    ">EX\n",
    "\n",
    "Block quotes can contain other Markdown elements,such as italics, images, or links.\n",
    "\n",
    "> _He_ **She**"
   ]
  },
  {
   "cell_type": "markdown",
   "metadata": {},
   "source": [
    "## Lists:\n",
    "\n",
    "Two types of lists: unordered (list with bullet points) and ordered (list with numbers).\n",
    "\n",
    "To create an unordered list, preface each item in the list with an asterisk:\n",
    "\n",
    "* Milk\n",
    "* Eggs\n",
    "* Salmon\n",
    "* Butter\n",
    "\n",
    "Ordered list, easy:\n",
    "\n",
    "1. Milk\n",
    "2. Eggs\n",
    "3. Salmon\n",
    "4. Butter\n",
    "\n",
    "Can add italics, bold, or links within lists.\n",
    "* _Milk_\n",
    "* **Eggs**\n",
    "\n",
    "#### Nest one list within another: Indent each asterisk one space more than the preceding item\n",
    "\n",
    "* Drink\n",
    " * Coke Cola\n",
    "   * Diet Coke\n",
    "   * Zero Coke\n",
    " * Milk\n",
    " * Juice\n",
    "\n",
    "Want to create a list that requires some additional context, the paragraph must start on a line all by itself underneath the bullet point or number, and it must be indented by at least one space.\n",
    "\n",
    "1. Crack three eggs over a bowl.\n",
    "\n",
    " Now, you're going to want to crack the eggs in such a way that you don't make a mess.\n",
    " \n",
    "2. Run the salmon vigorously with butter.\n",
    "\n",
    " By 'vigorous\":\n",
    " > Up and down and all around\n",
    " \n",
    " * Make sure\n",
    " * Shabi\n",
    " * Liuce"
   ]
  },
  {
   "cell_type": "markdown",
   "metadata": {},
   "source": [
    "## Paragraphs:\n",
    "\n",
    "##### Hard break: Forcelly insert a new line, E.X.:\n",
    "\n",
    "Do I contradict myself?\n",
    "\n",
    "Very well then I contradict myself.\n",
    "\n",
    "##### Soft break: inserting two spaces after each new line\n",
    "\n",
    "Do I contradict myself?  \n",
    "Very well then I contradict myself."
   ]
  },
  {
   "cell_type": "code",
   "execution_count": null,
   "metadata": {
    "collapsed": true
   },
   "outputs": [],
   "source": []
  }
 ],
 "metadata": {
  "kernelspec": {
   "display_name": "Python 3",
   "language": "python",
   "name": "python3"
  },
  "language_info": {
   "codemirror_mode": {
    "name": "ipython",
    "version": 3
   },
   "file_extension": ".py",
   "mimetype": "text/x-python",
   "name": "python",
   "nbconvert_exporter": "python",
   "pygments_lexer": "ipython3",
   "version": "3.5.1"
  }
 },
 "nbformat": 4,
 "nbformat_minor": 0
}
